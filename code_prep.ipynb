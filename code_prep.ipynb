{
  "nbformat": 4,
  "nbformat_minor": 0,
  "metadata": {
    "colab": {
      "provenance": []
    },
    "kernelspec": {
      "name": "python3",
      "display_name": "Python 3"
    },
    "language_info": {
      "name": "python"
    }
  },
  "cells": [
    {
      "cell_type": "markdown",
      "source": [
        "## Arrays"
      ],
      "metadata": {
        "id": "hiGnMpf9wwEh"
      }
    },
    {
      "cell_type": "code",
      "execution_count": null,
      "metadata": {
        "id": "YoZA6lhTiuMK"
      },
      "outputs": [],
      "source": [
        "from typing import List\n",
        "class ArraysHashing(object):\n",
        "    def containsDuplicate(self, nums: List[int])->bool:\n",
        "        \"\"\"\n",
        "        :type nums: List[int]\n",
        "        :rtype: bool\n",
        "        \"\"\"\n",
        "        uniq = set()\n",
        "        for num in nums:\n",
        "            if num in uniq:  return True\n",
        "            else: uniq.add(num)\n",
        "        return False\n",
        "\n",
        "    def isAnagram(self, s: str, t: str) -> bool:\n",
        "        if len(s) != len(t): return False\n",
        "        count_s, count_t = {}, {}\n",
        "\n",
        "        for i, _ in enumerate(s):\n",
        "            count_s[s[i]] = count_s.get(s[i], 0) + 1\n",
        "            count_t[t[i]] = count_t.get(t[i], 0) + 1\n",
        "        \n",
        "        for k, v in count_s.items():\n",
        "                if count_t.get(k, 0) != v: \n",
        "                    return False\n",
        "        return True\n",
        "\n",
        "    def twoSum(self, nums: List[int], target: int) -> List[int]:\n",
        "        '''Given an array of integers nums and an integer target, return indices of the two numbers such that they add up to target.'''\n",
        "        ''' Time = O(n) Space = O(n)'''\n",
        "        items = {} # val -> i\n",
        "        for i, num in enumerate(nums):\n",
        "            val = target - num\n",
        "            if val in items:\n",
        "                return [i, items[val]]\n",
        "            else:\n",
        "                items[num] = i\n",
        "        return []"
      ]
    },
    {
      "cell_type": "code",
      "source": [
        "sol = ArraysHashing()\n",
        "\n",
        "s = \"rat\"\n",
        "t = \"car\"\n",
        "assert not sol.isAnagram(s, t)"
      ],
      "metadata": {
        "id": "EfeX6vFGlcyC"
      },
      "execution_count": null,
      "outputs": []
    },
    {
      "cell_type": "markdown",
      "source": [
        "**Anagram**\n",
        "\n",
        "We can also use `return Counter(s) == Counter(t)` with a single line of code. If we want to save space, we can sort the two strings and check if they are the same. `return sorted(s) == sorted(t)`.\n"
      ],
      "metadata": {
        "id": "XxD9L0zatO-e"
      }
    },
    {
      "cell_type": "markdown",
      "source": [
        "## Two Pointers"
      ],
      "metadata": {
        "id": "91SbZUGHw07G"
      }
    },
    {
      "cell_type": "code",
      "source": [
        "class TwoPointers():\n",
        "  '''A phrase is a palindrome if, after converting all uppercase letters into lowercase letters and removing all non-alphanumeric characters, it reads the same forward and backward. Alphanumeric characters include letters and numbers.'''\n",
        "  \n",
        "  def alt_isPalindrome(self, s: str) -> bool:\n",
        "      new_s = \"\"\n",
        "      for each in s:\n",
        "          if each.isalnum(): # to check if a str s is alpha numeric `s.isalnum()` `ord(s)` -> returns the unicode value of a char\n",
        "              new_s += each.lower()\n",
        "      return new_s[::-1] == new_s # to reverse a str s -> s[::-1]\n",
        "\n",
        "  def isPalindrome(self, s: str) -> bool:\n",
        "        '''Two Pointers approach'''\n",
        "        l, r = 0, len(s) - 1\n",
        "        while l < r:\n",
        "            while l < r and not self.isalnum(s[l]): l += 1\n",
        "            while l < r and not self.isalnum(s[r]): r -= 1\n",
        "            if s[l].lower() != s[r].lower(): return False\n",
        "            l, r = l+1, r-1\n",
        "        return True\n",
        "\n",
        "  def isalnum(self, c):\n",
        "        return (ord('A') <= ord(c) <= ord('Z') or\n",
        "        ord('a') <= ord(c) <= ord('z') or\n",
        "        ord('0') <= ord(c) <= ord('9'))"
      ],
      "metadata": {
        "id": "Mwlt_uAhtTRx"
      },
      "execution_count": null,
      "outputs": []
    },
    {
      "cell_type": "code",
      "source": [
        "from typing import List\n",
        "class SlidingWindow():\n",
        "  '''\n",
        "  You are given an array prices where prices[i] is the price of a given stock on the ith day.\n",
        "\n",
        "You want to maximize your profit by choosing a single day to buy one stock and choosing a different day in the future to sell that stock.\n",
        "\n",
        "Return the maximum profit you can achieve from this transaction. If you cannot achieve any profit, return 0.\n",
        "  '''\n",
        "  def maxProfit(self, prices: List[int]) -> int:\n",
        "    '''Two pointer approach with a sliding window to keep track of buy and sell prices'''\n",
        "    l, r = 0, 1 # left -> buy, right -> sell\n",
        "    max_profit = 0\n",
        "    while l < r and r < len(prices):\n",
        "        # profitable\n",
        "        if prices[l] < prices[r]: # buy price < sell_price \n",
        "            max_profit = max(max_profit, prices[r] - prices[l]) # calc profit and assign if profit is > max_profit\n",
        "        else: \n",
        "            l = r # if found another lower price then move the left pointer as the new buy price\n",
        "        r += 1 # move the right pointer\n",
        "    return max_profit"
      ],
      "metadata": {
        "id": "HOGFdwoB3U1d"
      },
      "execution_count": 3,
      "outputs": []
    },
    {
      "cell_type": "markdown",
      "source": [
        "## Stack"
      ],
      "metadata": {
        "id": "7gmHp5Codgcc"
      }
    },
    {
      "cell_type": "code",
      "source": [
        "class Stack:\n",
        "  '''\n",
        "  Given a string s containing just the characters '(', ')', '{', '}', '[' and ']', determine if the input string is valid.\n",
        "  An input string is valid if:\n",
        "    Open brackets must be closed by the same type of brackets.\n",
        "    Open brackets must be closed in the correct order.\n",
        "    Every close bracket has a corresponding open bracket of the same type.\n",
        "  '''\n",
        "  def isValid(self, s: str) -> bool:\n",
        "      stack = [] # # we have to preserve the order and we need to remove the top of stack when it encounters close paren type (so stack datastructure )\n",
        "      closeToOpen = {'}':'{', ')':'(', ']':'['} # initialize a hash map to store close paran as key with the corresponding open paren\n",
        "      for c in s:\n",
        "          if c in closeToOpen: # close paren & stack is not empty\n",
        "              if stack and stack[-1] == closeToOpen[c]: # pop top of stack <- when you encounter close paren\n",
        "                  stack.pop()\n",
        "              else:\n",
        "                  return False\n",
        "          else: # push to stack <- open paren\n",
        "              stack.append(c)\n",
        "      return True if not stack else False  "
      ],
      "metadata": {
        "id": "xWlnlK126Vr-"
      },
      "execution_count": 1,
      "outputs": []
    },
    {
      "cell_type": "code",
      "source": [],
      "metadata": {
        "id": "madlrimk6naj"
      },
      "execution_count": null,
      "outputs": []
    }
  ]
}