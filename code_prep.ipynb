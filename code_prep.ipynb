{
  "nbformat": 4,
  "nbformat_minor": 0,
  "metadata": {
    "colab": {
      "provenance": [],
      "toc_visible": true
    },
    "kernelspec": {
      "name": "python3",
      "display_name": "Python 3"
    },
    "language_info": {
      "name": "python"
    }
  },
  "cells": [
    {
      "cell_type": "markdown",
      "source": [
        "- **GroupAnagram** : for each of 26 chars, use count of each char in each word as tuple for key in dict, value is the list of anagrams;\n",
        "- **Topk freq**: create counter dict, create an array but use the count value as index and store the corresponding elements as part of list since more than 1 elem can have same count; iterate in reverse until top k; O(n)\n",
        "- **Longest Consecutive Seq**: initialize a set with input; iterate and find the start of seq if n-1 __not__ in set then check for rest of consecutive seq in set keeping track of length; update the longest with length once reaching end of seq;\n",
        "- **Trie or prefix tree**: node has children characters, and bool if its an ending character, node DOESN’T have or need char, since root node doesn’t have a char, only children;\n",
        "- **Add and Search**: if char = \".\" run search for remaining portion of word on all of curr nodes children;"
      ],
      "metadata": {
        "id": "HGauiHR_VUeG"
      }
    },
    {
      "cell_type": "markdown",
      "source": [
        "## Arrays"
      ],
      "metadata": {
        "id": "hiGnMpf9wwEh"
      }
    },
    {
      "cell_type": "code",
      "execution_count": 1,
      "metadata": {
        "id": "YoZA6lhTiuMK"
      },
      "outputs": [],
      "source": [
        "from typing import List\n",
        "import collections\n",
        "class ArraysHashing(object):\n",
        "    def containsDuplicate(self, nums: List[int])->bool: # blind\n",
        "        \"\"\"\n",
        "        :type nums: List[int]\n",
        "        :rtype: bool\n",
        "        \"\"\"\n",
        "        uniq = set()\n",
        "        for num in nums:\n",
        "            if num in uniq:  return True\n",
        "            else: uniq.add(num)\n",
        "        return False\n",
        "\n",
        "    def isAnagram(self, s: str, t: str) -> bool: # blind\n",
        "        if len(s) != len(t): return False\n",
        "        count_s, count_t = {}, {}\n",
        "\n",
        "        for i, _ in enumerate(s):\n",
        "            count_s[s[i]] = count_s.get(s[i], 0) + 1\n",
        "            count_t[t[i]] = count_t.get(t[i], 0) + 1\n",
        "        \n",
        "        for k, v in count_s.items():\n",
        "                if count_t.get(k, 0) != v: \n",
        "                    return False\n",
        "        return True\n",
        "\n",
        "    def twoSum(self, nums: List[int], target: int) -> List[int]:\n",
        "        '''Given an array of integers nums and an integer target, return indices of the two numbers such that they add up to target.'''\n",
        "        ''' Time = O(n) Space = O(n)'''\n",
        "        items = {} # val -> i\n",
        "        for i, num in enumerate(nums):\n",
        "            val = target - num\n",
        "            if val in items:\n",
        "                return [i, items[val]]\n",
        "            else:\n",
        "                items[num] = i\n",
        "        return []\n",
        "\n",
        "    def replaceElements(self, arr: List[int]) -> List[int]:\n",
        "        '''Given an array arr, replace every element in that array with the greatest element among the elements to its right, and replace the last element with -1.\n",
        "           After doing so, return the array.'''\n",
        "        maxm = -1\n",
        "        for i in range(len(arr)-1, -1, -1):\n",
        "            curr = arr[i]\n",
        "            arr[i] = maxm\n",
        "            if curr > maxm: maxm = curr\n",
        "        return arr\n",
        "\n",
        "    def groupAnagrams(self, strs: List[str]) -> List[List[str]]:\n",
        "      '''\n",
        "      Given an array of strings strs, group the anagrams together. You can return the answer in any order.\n",
        "      An Anagram is a word or phrase formed by rearranging the letters of a different word or phrase, typically using all the original letters exactly once.\n",
        "      '''\n",
        "      res = collections.defaultdict(list) # key as array and value as list\n",
        "\n",
        "      # all anagrams will have the same one-hot encoded representation (bitarray of length 26 )\n",
        "      # create a hashmap with key using one-hot encoded representation of a word and all the anagrams as its value \n",
        "      for each in strs:\n",
        "          count = [0] * 26 # initialize an array of size 26 each char corresponding to index a being at 0 and z at 25\n",
        "          for c in each:\n",
        "              index = ord(c) - ord('a')\n",
        "              count[index] = 1\n",
        "          res[tuple(count)].append(each) # list is not hashable and hence we are converting to tuple\n",
        "      \n",
        "      return res.values()\n",
        "\n",
        "    def topKFrequent(self, nums: List[int], k: int) -> List[int]:\n",
        "      '''\n",
        "      Given an integer array nums and an integer k, return the k most frequent elements. You may return the answer in any order.\n",
        "      '''\n",
        "      # create a hashmap with tracking the counts of each element\n",
        "      # create an array of size len(hashmap)\n",
        "      # use the counts as the index and place elements occuring with the same count in that index\n",
        "      # iterate in the reverse to get the top k elements\n",
        "\n",
        "      counter = {} # element -> count\n",
        "      for num in nums:  counter[num] = counter.get(num, 0) + 1 # tracking the counts of each element\n",
        "\n",
        "      arr = [[] for i in range(len(counter) + 1)] # more than 1 elements with the same count hence initializing it with a list\n",
        "      for key, v in counter.items():\n",
        "          arr[v].append(key)\n",
        "\n",
        "      res = []\n",
        "      for i in range(len(arr)-1, 0, -1):\n",
        "          for each in arr[i]: \n",
        "              res.append(each) \n",
        "              if len(res) == k: \n",
        "                  return res # once we reach top k, we return the res\n",
        "\n",
        "    def longestConsecutive(self, nums: List[int]) -> int: # O(n) - Time complexity O(n) - Space complexity\n",
        "      '''\n",
        "      Given an unsorted array of integers nums, return the length of the longest consecutive elements sequence.\n",
        "      '''\n",
        "      # visualize the sequences present\n",
        "      # iterate through nums\n",
        "      # start of the seq n does not have the left element n-1, so check if n-1 is present in array (here checking if element is present is better with a set)\n",
        "      # create a set using nums\n",
        "      # once we have start of the seq, check if we have n+1 is present in set, if present increment the length\n",
        "      # if not present, that's the max_length found for the current seq\n",
        "      # repeat the procedure for other sequences, updating the max_length found ie longest = max(length, longest)\n",
        "      longest = 0\n",
        "      numSet = set(nums)\n",
        "      for num in nums: # iterate through nums\n",
        "          if (num-1) not in numSet:# start of sequence\n",
        "              length = 0\n",
        "              while (num + length) in numSet: # check if element part of seq is found\n",
        "                  length += 1  # inc length\n",
        "              if length > longest: longest = length # update length if length is greater than longest found ie longest = max(longest, length)\n",
        "      return longest\n",
        " "
      ]
    },
    {
      "cell_type": "code",
      "source": [
        "sol = ArraysHashing()\n",
        "\n",
        "s = \"rat\"\n",
        "t = \"car\"\n",
        "assert not sol.isAnagram(s, t)"
      ],
      "metadata": {
        "id": "EfeX6vFGlcyC"
      },
      "execution_count": null,
      "outputs": []
    },
    {
      "cell_type": "markdown",
      "source": [
        "**Anagram**\n",
        "\n",
        "We can also use `return Counter(s) == Counter(t)` with a single line of code. If we want to save space, we can sort the two strings and check if they are the same. `return sorted(s) == sorted(t)`.\n"
      ],
      "metadata": {
        "id": "XxD9L0zatO-e"
      }
    },
    {
      "cell_type": "code",
      "source": [],
      "metadata": {
        "id": "gKO2Mt2fzHgZ"
      },
      "execution_count": null,
      "outputs": []
    },
    {
      "cell_type": "markdown",
      "source": [
        "## Two Pointers"
      ],
      "metadata": {
        "id": "91SbZUGHw07G"
      }
    },
    {
      "cell_type": "code",
      "source": [
        "class TwoPointers():\n",
        "  '''A phrase is a palindrome if, after converting all uppercase letters into lowercase letters and removing all non-alphanumeric characters, it reads the same forward and backward. Alphanumeric characters include letters and numbers.'''\n",
        "  \n",
        "  def alt_isPalindrome(self, s: str) -> bool:\n",
        "      new_s = \"\"\n",
        "      for each in s:\n",
        "          if each.isalnum(): # to check if a str s is alpha numeric `s.isalnum()` `ord(s)` -> returns the unicode value of a char\n",
        "              new_s += each.lower()\n",
        "      return new_s[::-1] == new_s # to reverse a str s -> s[::-1]\n",
        "\n",
        "  def isPalindrome(self, s: str) -> bool:\n",
        "        '''Two Pointers approach'''\n",
        "        l, r = 0, len(s) - 1\n",
        "        while l < r:\n",
        "            while l < r and not self.isalnum(s[l]): l += 1\n",
        "            while l < r and not self.isalnum(s[r]): r -= 1\n",
        "            if s[l].lower() != s[r].lower(): return False\n",
        "            l, r = l+1, r-1\n",
        "        return True\n",
        "\n",
        "  def isalnum(self, c):\n",
        "        return (ord('A') <= ord(c) <= ord('Z') or\n",
        "        ord('a') <= ord(c) <= ord('z') or\n",
        "        ord('0') <= ord(c) <= ord('9'))\n",
        "\n",
        "# Start left at the start of array and right at the end of array\n",
        "# iterate until left < right\n",
        "# if sum(left, right) > target then right <- right - 1\n",
        "# else if sum(left, right) < target, then left <- left + 1\n",
        "# else return nums[left], nums[right]\n",
        "    # def twoSum(self, numbers: List[int], target: int) -> List[int]:\n",
        "    #     l = 0\n",
        "    #     res = []\n",
        "    #     while(l < len(numbers) - 1):\n",
        "    #         for r in range(l+1, len(numbers)):\n",
        "    #             if numbers[l] + numbers[r] == target:\n",
        "    #                 res.append(l+1)\n",
        "    #                 res.append(r+1)\n",
        "    #                 break\n",
        "    #         l += 1\n",
        "    #     return res\n",
        "    # # O(n^2)\n",
        "\n",
        "  def twoSum(self, numbers: List[int], target: int) -> List[int]:\n",
        "    '''\n",
        "    Given a 1-indexed array of integers numbers that is already sorted in non-decreasing order, find two numbers such that they add up to a specific target number. Let these two numbers be numbers[index1] and numbers[index2] where 1 <= index1 < index2 <= numbers.length.\n",
        "    Return the indices of the two numbers, index1 and index2, added by one as an integer array [index1, index2] of length 2.\n",
        "    '''\n",
        "    left, right = 0, len(numbers) - 1\n",
        "    while left < right: # O(n)\n",
        "        if numbers[left] + numbers[right] > target: right = right - 1\n",
        "        elif numbers[left] + numbers[right] < target: left = left + 1\n",
        "        else: return [left+1, right+1]"
      ],
      "metadata": {
        "id": "Mwlt_uAhtTRx"
      },
      "execution_count": null,
      "outputs": []
    },
    {
      "cell_type": "code",
      "source": [
        "from typing import List\n",
        "class SlidingWindow():\n",
        "  '''\n",
        "  You are given an array prices where prices[i] is the price of a given stock on the ith day.\n",
        "\n",
        "You want to maximize your profit by choosing a single day to buy one stock and choosing a different day in the future to sell that stock.\n",
        "\n",
        "Return the maximum profit you can achieve from this transaction. If you cannot achieve any profit, return 0.\n",
        "    def maxProfit(self, prices: List[int]) -> int:\n",
        "        res = 0, l = 0\n",
        "        for r in range(1, len(prices)):\n",
        "            if prices[r] < prices[l]: l = r # this is the new minimum price to buy\n",
        "            res = max(res, prices[r] - prices[l])\n",
        "        return res\n",
        "\n",
        "  '''\n",
        "  def maxProfit(self, prices: List[int]) -> int:\n",
        "    '''Two pointer approach with a sliding window to keep track of buy and sell prices'''\n",
        "    l, r = 0, 1 # left -> buy, right -> sell\n",
        "    max_profit = 0\n",
        "    while l < r and r < len(prices):\n",
        "        # profitable\n",
        "        if prices[l] < prices[r]: # buy price < sell_price \n",
        "            max_profit = max(max_profit, prices[r] - prices[l]) # calc profit and assign if profit is > max_profit\n",
        "        else: \n",
        "            l = r # if found another lower price then move the left pointer as the new buy price\n",
        "        r += 1 # move the right pointer\n",
        "    return max_profit"
      ],
      "metadata": {
        "id": "HOGFdwoB3U1d"
      },
      "execution_count": null,
      "outputs": []
    },
    {
      "cell_type": "markdown",
      "source": [
        "## Stack"
      ],
      "metadata": {
        "id": "7gmHp5Codgcc"
      }
    },
    {
      "cell_type": "code",
      "source": [
        "class Stack:\n",
        "  '''\n",
        "  Given a string s containing just the characters '(', ')', '{', '}', '[' and ']', determine if the input string is valid.\n",
        "  An input string is valid if:\n",
        "    Open brackets must be closed by the same type of brackets.\n",
        "    Open brackets must be closed in the correct order.\n",
        "    Every close bracket has a corresponding open bracket of the same type.\n",
        "  '''\n",
        "  def isValid(self, s: str) -> bool:\n",
        "      stack = [] # # we have to preserve the order and we need to remove the top of stack when it encounters close paren type (so stack datastructure )\n",
        "      closeToOpen = {'}':'{', ')':'(', ']':'['} # initialize a hash map to store close paran as key with the corresponding open paren\n",
        "      for c in s:\n",
        "          if c in closeToOpen: # close paren & stack is not empty\n",
        "              if stack and stack[-1] == closeToOpen[c]: # pop top of stack <- when you encounter close paren\n",
        "                  stack.pop()\n",
        "              else:\n",
        "                  return False\n",
        "          else: # push to stack <- open paren\n",
        "              stack.append(c)\n",
        "      return True if not stack else False  "
      ],
      "metadata": {
        "id": "xWlnlK126Vr-"
      },
      "execution_count": null,
      "outputs": []
    },
    {
      "cell_type": "markdown",
      "source": [
        "## Trie"
      ],
      "metadata": {
        "id": "madlrimk6naj"
      }
    },
    {
      "cell_type": "markdown",
      "source": [
        "- Trie is prefix tree datastructure with each node repr a character, reference to its children and indicates if its a end of word\n",
        "- used to efficiently store and retrieve strings, used in autocomplete and spellcheck."
      ],
      "metadata": {
        "id": "Q5usGtx0xF8x"
      }
    },
    {
      "cell_type": "code",
      "source": [
        "# Trie Node contains a hashmap with key as character and value pointing to the children, bool flag -> end_of_word \n",
        "# Initialize root with an empty TrieNode, empty children, setting false for end of word\n",
        "# Insert word by starting the current pointer at root, iterate each char in the word, if char not in current node children, then add a trie node, move the current to the newly added node's children, repeat until end of word, set end of word.\n",
        "# Search a word by starting the current pointer at root, iterate each char in the word, if char is in current node children, move the current to current node children, repeat until end of word, once reaching the end of word, then return end of word. else return False\n",
        "# StartsWith prefix by starting the current pointer at root, iterate each char in the word, if char is current node children, move the current to current node children, repeat until end of prefix, return True else return False\n",
        "\n",
        "'''\n",
        "A trie (pronounced as \"try\") or prefix tree is a tree data structure used to efficiently store and retrieve keys in a dataset of strings. There are various applications of this data structure, such as autocomplete and spellchecker.\n",
        "\n",
        "Implement the Trie class:\n",
        "\n",
        "Trie() Initializes the trie object.\n",
        "void insert(String word) Inserts the string word into the trie.\n",
        "boolean search(String word) Returns true if the string word is in the trie (i.e., was inserted before), and false otherwise.\n",
        "boolean startsWith(String prefix) Returns true if there is a previously inserted string word that has the prefix prefix, and false otherwise.\n",
        "'''\n",
        "\n",
        "class TrieNode:\n",
        "    def __init__(self):\n",
        "        self.children = {} # hashmap char -> TrieNode\n",
        "        self.end_of_word = False # bool flag marking end of word\n",
        "\n",
        "class Trie:\n",
        "    def __init__(self):\n",
        "        self.root = TrieNode() # initialize with empty     \n",
        "\n",
        "    def insert(self, word: str) -> None:\n",
        "        curr = self.root # start current pointer at root\n",
        "\n",
        "        for c in word:\n",
        "            if c not in curr.children: # if the char not in children\n",
        "                curr.children[c] = TrieNode() # create a new item with the char as key and a new TrieNode as value\n",
        "            curr = curr.children[c] # move pointer to the child\n",
        "        curr.end_of_word = True # set current trie node end of word\n",
        "\n",
        "    def search(self, word: str) -> bool:\n",
        "        curr = self.root # start current pointer at root\n",
        "\n",
        "        for c in word:\n",
        "            if c in curr.children: # if char is in children\n",
        "                curr = curr.children[c] # move pointer to that child\n",
        "            else:\n",
        "                return False # else search failed to find the word\n",
        "        return curr.end_of_word # we found the word hence returning the flag end_of_word \n",
        "\n",
        "    def startsWith(self, prefix: str) -> bool:\n",
        "        curr = self.root # start current pointer at root\n",
        "\n",
        "        for c in prefix:\n",
        "            if c in curr.children: # char is in trie\n",
        "                curr = curr.children[c] # move the current pointer to the child\n",
        "            else: # char not in trie\n",
        "                return False # no prefix found\n",
        "        return True # prefix found if iterated successfully\n",
        "\n",
        "# Your Trie object will be instantiated and called as such:\n",
        "# obj = Trie()\n",
        "# obj.insert(word)\n",
        "# param_2 = obj.search(word)\n",
        "# param_3 = obj.startsWith(prefix)"
      ],
      "metadata": {
        "id": "CuFaG_jBnSLx"
      },
      "execution_count": 1,
      "outputs": []
    },
    {
      "cell_type": "code",
      "source": [
        "'''\n",
        "Design a data structure that supports adding new words and finding if a string matches any previously added string.\n",
        "\n",
        "Implement the WordDictionary class:\n",
        "\n",
        "WordDictionary() Initializes the object.\n",
        "void addWord(word) Adds word to the data structure, it can be matched later.\n",
        "bool search(word) Returns true if there is any string in the data structure that matches word or false otherwise. word may contain dots '.' where dots can be matched with any letter.\n",
        "'''\n",
        "\n",
        "class TrieNode:\n",
        "    def __init__(self):\n",
        "        self.children = {} # hashmap with char -> TrieNode\n",
        "        self.end_of_word = False\n",
        "\n",
        "class WordDictionary:\n",
        "    def __init__(self):\n",
        "        self.root = TrieNode() # empty trienode        \n",
        "\n",
        "    def addWord(self, word: str) -> None:\n",
        "        curr = self.root # start current pointer at root\n",
        "        for c in word: # iterate each char in word\n",
        "            if c not in curr.children: # check if char not in current children\n",
        "                curr.children[c] = TrieNode() # create an trienode with c as key\n",
        "            curr = curr.children[c] # move curr to that child\n",
        "        curr.end_of_word = True # once reached the end of word, mark it\n",
        "\n",
        "    def search(self, word: str) -> bool:\n",
        "        def dfs(j, child): # start the search word's j th index\n",
        "            curr = child # start current pointer at root\n",
        "            for i in range(j, len(word)): # iterate from jth index until end of word\n",
        "                c = word[i] # get char from ith index of word\n",
        "                if c == '.': # special case if char is a dot ## RECURSIVE ##\n",
        "                    childs = curr.children.values() # get all the children nodes\n",
        "                    for each in childs: # do a depth first search on all childs until found\n",
        "                        if dfs(i+1, each): # ignore the dot character hence start dfs with the next index using the given child\n",
        "                            return True\n",
        "                    return False\n",
        "                else: ## ITERATIVE ##\n",
        "                    if c not in curr.children: # if char is not in current children\n",
        "                        return False\n",
        "                    curr = curr.children[c] # move current to that child\n",
        "            return curr.end_of_word # we reached end of word, return the end of word flag\n",
        "        \n",
        "        return dfs(0, self.root) # start at index 0 beginning with root\n",
        "\n",
        "# Your WordDictionary object will be instantiated and called as such:\n",
        "# obj = WordDictionary()\n",
        "# obj.addWord(word)\n",
        "# param_2 = obj.search(word)"
      ],
      "metadata": {
        "id": "_a-TmA_HxU2y"
      },
      "execution_count": 2,
      "outputs": []
    },
    {
      "cell_type": "code",
      "source": [],
      "metadata": {
        "id": "0Kl6oX94BhMf"
      },
      "execution_count": null,
      "outputs": []
    }
  ]
}